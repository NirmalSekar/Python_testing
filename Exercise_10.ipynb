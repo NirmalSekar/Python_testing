{
  "nbformat": 4,
  "nbformat_minor": 0,
  "metadata": {
    "colab": {
      "name": "Exercise_10.ipynb",
      "provenance": [],
      "authorship_tag": "ABX9TyNa6xx9yR1jTOpILrQhPdsq",
      "include_colab_link": true
    },
    "kernelspec": {
      "name": "python3",
      "display_name": "Python 3"
    },
    "language_info": {
      "name": "python"
    }
  },
  "cells": [
    {
      "cell_type": "markdown",
      "metadata": {
        "id": "view-in-github",
        "colab_type": "text"
      },
      "source": [
        "<a href=\"https://colab.research.google.com/github/NirmalSekar/Python_testing/blob/main/Exercise_10.ipynb\" target=\"_parent\"><img src=\"https://colab.research.google.com/assets/colab-badge.svg\" alt=\"Open In Colab\"/></a>"
      ]
    },
    {
      "cell_type": "code",
      "execution_count": null,
      "metadata": {
        "id": "7tgWP_4gtd6b"
      },
      "outputs": [],
      "source": [
        "#escape sequences"
      ]
    },
    {
      "cell_type": "code",
      "source": [
        "print(\"\\tI'm tabby cat\")"
      ],
      "metadata": {
        "colab": {
          "base_uri": "https://localhost:8080/"
        },
        "id": "8wjPL3RZtjcF",
        "outputId": "6683029c-4441-4b6d-da53-9ed06a270b66"
      },
      "execution_count": 1,
      "outputs": [
        {
          "output_type": "stream",
          "name": "stdout",
          "text": [
            "\tI'm tabby cat\n"
          ]
        }
      ]
    },
    {
      "cell_type": "code",
      "source": [
        "print(\"This text is Splitted\\ninto two\")"
      ],
      "metadata": {
        "colab": {
          "base_uri": "https://localhost:8080/"
        },
        "id": "CMVd1GCLuR0_",
        "outputId": "41aa1031-aa41-4b39-8ced-b6d1cf47d877"
      },
      "execution_count": 3,
      "outputs": [
        {
          "output_type": "stream",
          "name": "stdout",
          "text": [
            "This text is Splitted\n",
            "into two\n"
          ]
        }
      ]
    },
    {
      "cell_type": "code",
      "source": [
        "print(\"I used b sequence in here\\b\")"
      ],
      "metadata": {
        "colab": {
          "base_uri": "https://localhost:8080/"
        },
        "id": "Bh3o8nMJulE9",
        "outputId": "67b06dee-97b3-44ef-d8f4-68030f3151e4"
      },
      "execution_count": 4,
      "outputs": [
        {
          "output_type": "stream",
          "name": "stdout",
          "text": [
            "I used b sequence in here\b\n"
          ]
        }
      ]
    },
    {
      "cell_type": "code",
      "source": [
        "# there are more number of escape sequences are here"
      ],
      "metadata": {
        "id": "VkyZar-Vu5g5"
      },
      "execution_count": null,
      "outputs": []
    }
  ]
}