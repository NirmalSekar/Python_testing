{
  "nbformat": 4,
  "nbformat_minor": 0,
  "metadata": {
    "colab": {
      "name": "Exercise-04.ipynb",
      "provenance": [],
      "authorship_tag": "ABX9TyNR6utwsJm8YVnDNPROa06w",
      "include_colab_link": true
    },
    "kernelspec": {
      "name": "python3",
      "display_name": "Python 3"
    },
    "language_info": {
      "name": "python"
    }
  },
  "cells": [
    {
      "cell_type": "markdown",
      "metadata": {
        "id": "view-in-github",
        "colab_type": "text"
      },
      "source": [
        "<a href=\"https://colab.research.google.com/github/NirmalSekar/Python_testing/blob/main/Exercise_04.ipynb\" target=\"_parent\"><img src=\"https://colab.research.google.com/assets/colab-badge.svg\" alt=\"Open In Colab\"/></a>"
      ]
    },
    {
      "cell_type": "code",
      "execution_count": 1,
      "metadata": {
        "colab": {
          "base_uri": "https://localhost:8080/"
        },
        "id": "tCCgeL-vYnNC",
        "outputId": "9f0b6050-c0e9-4363-fcac-732c1bae3297"
      },
      "outputs": [
        {
          "output_type": "stream",
          "name": "stdout",
          "text": [
            "here we will learn about Variables and names\n"
          ]
        }
      ],
      "source": [
        "print(\"here we will learn about Variables and names\")\n",
        "a=\"nirmal kumar sekar\"\n",
        "b=\"Research assistant\"\n",
        "c=\"Robotics Lab\""
      ]
    },
    {
      "cell_type": "code",
      "source": [
        "print(a)\n",
        "print(b)\n",
        "print(c)"
      ],
      "metadata": {
        "colab": {
          "base_uri": "https://localhost:8080/"
        },
        "id": "Da_YlbrJZUeq",
        "outputId": "1f1f7fe9-51f2-4df8-dd48-13d08e269adc"
      },
      "execution_count": 2,
      "outputs": [
        {
          "output_type": "stream",
          "name": "stdout",
          "text": [
            "nirmal kumar sekar\n",
            "Research assistant\n",
            "Robotics Lab\n"
          ]
        }
      ]
    },
    {
      "cell_type": "code",
      "source": [
        "#we can also do math by assigning values to variables as follows\n",
        "\n",
        "sekar = 50000\n",
        "nirmal = 10000\n",
        "print(\"sum =\", sekar - nirmal)"
      ],
      "metadata": {
        "colab": {
          "base_uri": "https://localhost:8080/"
        },
        "id": "c4fN2YNzZlLY",
        "outputId": "4c94c512-0f10-44e6-eb47-bcdec5232713"
      },
      "execution_count": 3,
      "outputs": [
        {
          "output_type": "stream",
          "name": "stdout",
          "text": [
            "sum = 40000\n"
          ]
        }
      ]
    }
  ]
}