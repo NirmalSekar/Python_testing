{
  "nbformat": 4,
  "nbformat_minor": 0,
  "metadata": {
    "colab": {
      "name": "Exercise_07.ipynb",
      "provenance": [],
      "authorship_tag": "ABX9TyMLlvdLeCFq5T0RINmb1Owd",
      "include_colab_link": true
    },
    "kernelspec": {
      "name": "python3",
      "display_name": "Python 3"
    },
    "language_info": {
      "name": "python"
    }
  },
  "cells": [
    {
      "cell_type": "markdown",
      "metadata": {
        "id": "view-in-github",
        "colab_type": "text"
      },
      "source": [
        "<a href=\"https://colab.research.google.com/github/NirmalSekar/Python_testing/blob/main/Exercise_07.ipynb\" target=\"_parent\"><img src=\"https://colab.research.google.com/assets/colab-badge.svg\" alt=\"Open In Colab\"/></a>"
      ]
    },
    {
      "cell_type": "code",
      "execution_count": 3,
      "metadata": {
        "id": "sRQEhqSSmBfi"
      },
      "outputs": [],
      "source": [
        "#more about printing"
      ]
    },
    {
      "cell_type": "code",
      "source": [
        "a=\"yes its true!!!\"\n",
        "print(\"This is a normal method of printing\")\n",
        "print(\"This is another method of using variable in the print statement {}\".format(a))"
      ],
      "metadata": {
        "colab": {
          "base_uri": "https://localhost:8080/"
        },
        "id": "MVaVOnsJmTqz",
        "outputId": "5c80f248-f7cf-43b2-edef-8504f934ad1b"
      },
      "execution_count": 4,
      "outputs": [
        {
          "output_type": "stream",
          "name": "stdout",
          "text": [
            "This is a normal method of printing\n",
            "This is another method of using variable in the print statement yes its true!!!\n"
          ]
        }
      ]
    },
    {
      "cell_type": "code",
      "source": [
        "print(f\"This a another method of formatting........{a}\")"
      ],
      "metadata": {
        "colab": {
          "base_uri": "https://localhost:8080/"
        },
        "id": "X9f8hg18nBOS",
        "outputId": "129119ce-5960-4e5b-ef2b-5aa9e5298e6e"
      },
      "execution_count": 6,
      "outputs": [
        {
          "output_type": "stream",
          "name": "stdout",
          "text": [
            "This a another method of formatting........yes its true!!!\n"
          ]
        }
      ]
    },
    {
      "cell_type": "code",
      "source": [
        "#we can also do math inside the print statement\n",
        "print(\"*#\"*10)"
      ],
      "metadata": {
        "colab": {
          "base_uri": "https://localhost:8080/"
        },
        "id": "y_JBT38ynNhh",
        "outputId": "8acbb26e-1870-41a8-b3ca-0867e5c069cc"
      },
      "execution_count": 7,
      "outputs": [
        {
          "output_type": "stream",
          "name": "stdout",
          "text": [
            "*#*#*#*#*#*#*#*#*#*#\n"
          ]
        }
      ]
    }
  ]
}