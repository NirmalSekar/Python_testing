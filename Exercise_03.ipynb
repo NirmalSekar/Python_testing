{
  "nbformat": 4,
  "nbformat_minor": 0,
  "metadata": {
    "colab": {
      "name": "Exercise_03.ipynb",
      "provenance": [],
      "authorship_tag": "ABX9TyOxb+6aPmofPTiFsC7vgTV5",
      "include_colab_link": true
    },
    "kernelspec": {
      "name": "python3",
      "display_name": "Python 3"
    },
    "language_info": {
      "name": "python"
    }
  },
  "cells": [
    {
      "cell_type": "markdown",
      "metadata": {
        "id": "view-in-github",
        "colab_type": "text"
      },
      "source": [
        "<a href=\"https://colab.research.google.com/github/NirmalSekar/Python_testing/blob/main/Exercise_03.ipynb\" target=\"_parent\"><img src=\"https://colab.research.google.com/assets/colab-badge.svg\" alt=\"Open In Colab\"/></a>"
      ]
    },
    {
      "cell_type": "code",
      "execution_count": 3,
      "metadata": {
        "colab": {
          "base_uri": "https://localhost:8080/"
        },
        "id": "iaMxLSN-Vsro",
        "outputId": "bc77ecb3-0db3-4846-e722-7b2077131c71"
      },
      "outputs": [
        {
          "output_type": "stream",
          "name": "stdout",
          "text": [
            "This is Math problems:\n",
            "Addition: 10\n",
            "Subtraction: 1\n",
            "division: 1.6\n",
            "Modulus: 5\n",
            "greater than symbol: True\n",
            "lesser than: False\n",
            "Multiplication: 30\n",
            "PEMDAS is the order of operation\n"
          ]
        }
      ],
      "source": [
        "print(\"This is Math problems:\")\n",
        "print(\"Addition:\",5+5)\n",
        "print(\"Subtraction:\", 6-5)\n",
        "print(\"division:\", 80/50)\n",
        "print(\"Modulus:\", 65%30)\n",
        "print(\"greater than symbol:\", 50>=49)\n",
        "print(\"lesser than:\", 65<=55)\n",
        "print(\"Multiplication:\", 5*6)\n",
        "\n",
        "print(\"PEMDAS is the order of operation\")\n",
        "#PEMDAS means Paranthesis Exponential Mulitplication Division Addition Subtraction"
      ]
    }
  ]
}