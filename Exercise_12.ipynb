{
  "nbformat": 4,
  "nbformat_minor": 0,
  "metadata": {
    "colab": {
      "name": "Exercise_12.ipynb",
      "provenance": [],
      "authorship_tag": "ABX9TyPUNh18y367ifxUGPoz5tUH",
      "include_colab_link": true
    },
    "kernelspec": {
      "name": "python3",
      "display_name": "Python 3"
    },
    "language_info": {
      "name": "python"
    }
  },
  "cells": [
    {
      "cell_type": "markdown",
      "metadata": {
        "id": "view-in-github",
        "colab_type": "text"
      },
      "source": [
        "<a href=\"https://colab.research.google.com/github/NirmalSekar/Python_testing/blob/main/Exercise_12.ipynb\" target=\"_parent\"><img src=\"https://colab.research.google.com/assets/colab-badge.svg\" alt=\"Open In Colab\"/></a>"
      ]
    },
    {
      "cell_type": "code",
      "execution_count": null,
      "metadata": {
        "id": "bR-9dvi3waSE"
      },
      "outputs": [],
      "source": [
        "#prompt in python"
      ]
    },
    {
      "cell_type": "code",
      "source": [
        "name=input(\"what is your name? \")\n",
        "age = input(\"What is your current age? \")\n",
        "print(f\"Myself {name} and my age is {age}\")"
      ],
      "metadata": {
        "colab": {
          "base_uri": "https://localhost:8080/"
        },
        "id": "XG99Tt5uwckF",
        "outputId": "03506ff1-f48e-4a5e-9fcc-e916aae8482f"
      },
      "execution_count": 1,
      "outputs": [
        {
          "output_type": "stream",
          "name": "stdout",
          "text": [
            "what is your name? nirmal\n",
            "What is your current age? 25\n",
            "Myself nirmal and my age is 25\n"
          ]
        }
      ]
    },
    {
      "cell_type": "code",
      "source": [],
      "metadata": {
        "id": "5ksz4x_gw6Hx"
      },
      "execution_count": null,
      "outputs": []
    }
  ]
}