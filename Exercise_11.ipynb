{
  "nbformat": 4,
  "nbformat_minor": 0,
  "metadata": {
    "colab": {
      "name": "Exercise_11.ipynb",
      "provenance": [],
      "authorship_tag": "ABX9TyMa7GfEGKLyUYGc+G9iTnV/",
      "include_colab_link": true
    },
    "kernelspec": {
      "name": "python3",
      "display_name": "Python 3"
    },
    "language_info": {
      "name": "python"
    }
  },
  "cells": [
    {
      "cell_type": "markdown",
      "metadata": {
        "id": "view-in-github",
        "colab_type": "text"
      },
      "source": [
        "<a href=\"https://colab.research.google.com/github/NirmalSekar/Python_testing/blob/main/Exercise_11.ipynb\" target=\"_parent\"><img src=\"https://colab.research.google.com/assets/colab-badge.svg\" alt=\"Open In Colab\"/></a>"
      ]
    },
    {
      "cell_type": "code",
      "execution_count": 4,
      "metadata": {
        "colab": {
          "base_uri": "https://localhost:8080/"
        },
        "id": "3CkNrsBEvISb",
        "outputId": "ce206cb2-54fb-4e8b-ec4a-d9d3da85cb97"
      },
      "outputs": [
        {
          "output_type": "stream",
          "name": "stdout",
          "text": [
            "How old are you 25\n",
            "my age is 25\n"
          ]
        }
      ],
      "source": [
        "print(\"How old are you\", end=' ')\n",
        "age = input()\n",
        "print(f\"my age is {age}\")"
      ]
    },
    {
      "cell_type": "code",
      "source": [],
      "metadata": {
        "id": "gYXwtukcvuCb"
      },
      "execution_count": null,
      "outputs": []
    }
  ]
}