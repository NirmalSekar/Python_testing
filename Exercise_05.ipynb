{
  "nbformat": 4,
  "nbformat_minor": 0,
  "metadata": {
    "colab": {
      "name": "Exercise_05.ipynb",
      "provenance": [],
      "authorship_tag": "ABX9TyOQex/Rv/kL4zoYayVNSyXa",
      "include_colab_link": true
    },
    "kernelspec": {
      "name": "python3",
      "display_name": "Python 3"
    },
    "language_info": {
      "name": "python"
    }
  },
  "cells": [
    {
      "cell_type": "markdown",
      "metadata": {
        "id": "view-in-github",
        "colab_type": "text"
      },
      "source": [
        "<a href=\"https://colab.research.google.com/github/NirmalSekar/Python_testing/blob/main/Exercise_05.ipynb\" target=\"_parent\"><img src=\"https://colab.research.google.com/assets/colab-badge.svg\" alt=\"Open In Colab\"/></a>"
      ]
    },
    {
      "cell_type": "code",
      "execution_count": null,
      "metadata": {
        "id": "JSPAH-jLcj68"
      },
      "outputs": [],
      "source": [
        "#this is the rest of variables and printing it"
      ]
    },
    {
      "cell_type": "code",
      "source": [
        "print(\"in this example we will use format string to assign variables to extract information from the variables\")\n"
      ],
      "metadata": {
        "colab": {
          "base_uri": "https://localhost:8080/"
        },
        "id": "P9NBnocmcs0D",
        "outputId": "600de3fd-5766-4232-c2e5-f6ab4092e5bd"
      },
      "execution_count": 2,
      "outputs": [
        {
          "output_type": "stream",
          "name": "stdout",
          "text": [
            "in this example we will use format string to assign variables to extract information from the variables\n"
          ]
        }
      ]
    },
    {
      "cell_type": "code",
      "source": [
        "a = \"nirmal\"\n",
        "b = 25\n",
        "c = 5.0\n",
        "print(f\"my name is {a} and my age is {b} and my height might be {c}\")"
      ],
      "metadata": {
        "colab": {
          "base_uri": "https://localhost:8080/"
        },
        "id": "WpP4BLD_dih9",
        "outputId": "74e9cff5-54e8-40f1-db8a-8db0cd44e2fe"
      },
      "execution_count": 1,
      "outputs": [
        {
          "output_type": "stream",
          "name": "stdout",
          "text": [
            "my name is nirmal and my age is 25 and my height might be 5.0\n"
          ]
        }
      ]
    }
  ]
}