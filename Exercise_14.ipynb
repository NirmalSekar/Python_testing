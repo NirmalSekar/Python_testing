{
  "nbformat": 4,
  "nbformat_minor": 0,
  "metadata": {
    "colab": {
      "name": "Exercise_14.ipynb",
      "provenance": [],
      "authorship_tag": "ABX9TyM7f8Di94szJ05bTFWF7aVy",
      "include_colab_link": true
    },
    "kernelspec": {
      "name": "python3",
      "display_name": "Python 3"
    },
    "language_info": {
      "name": "python"
    }
  },
  "cells": [
    {
      "cell_type": "markdown",
      "metadata": {
        "id": "view-in-github",
        "colab_type": "text"
      },
      "source": [
        "<a href=\"https://colab.research.google.com/github/NirmalSekar/Python_testing/blob/main/Exercise_14.ipynb\" target=\"_parent\"><img src=\"https://colab.research.google.com/assets/colab-badge.svg\" alt=\"Open In Colab\"/></a>"
      ]
    },
    {
      "cell_type": "code",
      "execution_count": null,
      "metadata": {
        "id": "-iObZgyq08Gz"
      },
      "outputs": [],
      "source": [
        "#Prompting and passing"
      ]
    },
    {
      "cell_type": "code",
      "source": [
        "from sys import argv\n",
        "script, username,other = argv\n",
        "prompt = \"> \"\n",
        "print(f\"Hi, this is {username}, and this is my{script} \")\n",
        "\n",
        "print(f\"This take the input right {username}\")\n",
        "like = input(prompt)"
      ],
      "metadata": {
        "id": "gm4cKXlL1Bf-",
        "colab": {
          "base_uri": "https://localhost:8080/"
        },
        "outputId": "1dae5cb4-f34f-4908-e3b4-c6b5cb33315c"
      },
      "execution_count": 3,
      "outputs": [
        {
          "name": "stdout",
          "output_type": "stream",
          "text": [
            "Hi, this is -f, and this is my/usr/local/lib/python3.7/dist-packages/ipykernel_launcher.py \n",
            "This take the input right -f\n",
            "> Yes\n"
          ]
        }
      ]
    },
    {
      "cell_type": "code",
      "source": [],
      "metadata": {
        "id": "kGg5Lz-D20Qv"
      },
      "execution_count": null,
      "outputs": []
    }
  ]
}