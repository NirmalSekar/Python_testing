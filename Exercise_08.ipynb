{
  "nbformat": 4,
  "nbformat_minor": 0,
  "metadata": {
    "colab": {
      "name": "Exercise_08.ipynb",
      "provenance": [],
      "collapsed_sections": [],
      "authorship_tag": "ABX9TyPDk+MfbB7qwMhIr2ifFJRX",
      "include_colab_link": true
    },
    "kernelspec": {
      "name": "python3",
      "display_name": "Python 3"
    },
    "language_info": {
      "name": "python"
    }
  },
  "cells": [
    {
      "cell_type": "markdown",
      "metadata": {
        "id": "view-in-github",
        "colab_type": "text"
      },
      "source": [
        "<a href=\"https://colab.research.google.com/github/NirmalSekar/Python_testing/blob/main/Exercise_08.ipynb\" target=\"_parent\"><img src=\"https://colab.research.google.com/assets/colab-badge.svg\" alt=\"Open In Colab\"/></a>"
      ]
    },
    {
      "cell_type": "code",
      "execution_count": null,
      "metadata": {
        "id": "rRD6dF1LoKmA"
      },
      "outputs": [],
      "source": [
        "#this is more on printing and formatting\n",
        "\n"
      ]
    },
    {
      "cell_type": "code",
      "source": [
        "nirmal = \"hero\"\n",
        "\n",
        "print(f\"Nirmal is a {nirmal}\")\n",
        "print(\"nirmal is a.........{}\".format(nirmal))\n",
        "print(\"Nirmal is a good {}\".format(\"Hero\"))"
      ],
      "metadata": {
        "colab": {
          "base_uri": "https://localhost:8080/"
        },
        "id": "Xn_RWG3HoQbQ",
        "outputId": "efff2aff-8f7e-4cb6-e2ef-b4f5c416e952"
      },
      "execution_count": 1,
      "outputs": [
        {
          "output_type": "stream",
          "name": "stdout",
          "text": [
            "Nirmal is a hero\n",
            "nirmal is a.........hero\n",
            "Nirmal is a good Hero\n"
          ]
        }
      ]
    }
  ]
}