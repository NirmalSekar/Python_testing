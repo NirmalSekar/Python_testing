{
  "nbformat": 4,
  "nbformat_minor": 0,
  "metadata": {
    "colab": {
      "name": "Exercise_13.ipynb",
      "provenance": [],
      "authorship_tag": "ABX9TyPcMgZpVpCCoDPte+D8dZ7X",
      "include_colab_link": true
    },
    "kernelspec": {
      "name": "python3",
      "display_name": "Python 3"
    },
    "language_info": {
      "name": "python"
    }
  },
  "cells": [
    {
      "cell_type": "markdown",
      "metadata": {
        "id": "view-in-github",
        "colab_type": "text"
      },
      "source": [
        "<a href=\"https://colab.research.google.com/github/NirmalSekar/Python_testing/blob/main/Exercise_13.ipynb\" target=\"_parent\"><img src=\"https://colab.research.google.com/assets/colab-badge.svg\" alt=\"Open In Colab\"/></a>"
      ]
    },
    {
      "cell_type": "code",
      "execution_count": 5,
      "metadata": {
        "colab": {
          "base_uri": "https://localhost:8080/"
        },
        "id": "c-JTZhtfyw95",
        "outputId": "e5c3f452-58eb-498b-bdbd-a33ec540fdb1"
      },
      "outputs": [
        {
          "output_type": "stream",
          "name": "stdout",
          "text": [
            "The script is called: /usr/local/lib/python3.7/dist-packages/ipykernel_launcher.py\n",
            "Your first variable is: -f\n",
            "Your second variable is: /root/.local/share/jupyter/runtime/kernel-74d6e766-715a-4515-93fa-1666199c48c1.json\n"
          ]
        }
      ],
      "source": [
        "from sys import argv\n",
        "script, first, second= argv\n",
        "print(\"The script is called:\", script)\n",
        "print(\"Your first variable is:\", first)\n",
        "print(\"Your second variable is:\", second)"
      ]
    },
    {
      "cell_type": "code",
      "source": [],
      "metadata": {
        "id": "ogWbzY1tzJ6L"
      },
      "execution_count": null,
      "outputs": []
    }
  ]
}