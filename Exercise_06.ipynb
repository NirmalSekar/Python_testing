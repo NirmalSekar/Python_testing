{
  "nbformat": 4,
  "nbformat_minor": 0,
  "metadata": {
    "colab": {
      "name": "Exercise_06.ipynb",
      "provenance": [],
      "authorship_tag": "ABX9TyNTZBKY+Lc9PpZldZFYDndb",
      "include_colab_link": true
    },
    "kernelspec": {
      "name": "python3",
      "display_name": "Python 3"
    },
    "language_info": {
      "name": "python"
    }
  },
  "cells": [
    {
      "cell_type": "markdown",
      "metadata": {
        "id": "view-in-github",
        "colab_type": "text"
      },
      "source": [
        "<a href=\"https://colab.research.google.com/github/NirmalSekar/Python_testing/blob/main/Exercise_06.ipynb\" target=\"_parent\"><img src=\"https://colab.research.google.com/assets/colab-badge.svg\" alt=\"Open In Colab\"/></a>"
      ]
    },
    {
      "cell_type": "code",
      "execution_count": null,
      "metadata": {
        "id": "DCSww6Q3ec-r"
      },
      "outputs": [],
      "source": [
        "#we will use format string in a different way\n"
      ]
    },
    {
      "cell_type": "code",
      "source": [
        "new = False\n",
        "joke = \"is it a good one?!!! {}\"\n",
        "\n",
        "print(joke.format(new))"
      ],
      "metadata": {
        "colab": {
          "base_uri": "https://localhost:8080/"
        },
        "id": "Kw-6YiC3laK1",
        "outputId": "211c0003-0e0f-4500-e1d1-78ecd32da2d6"
      },
      "execution_count": 4,
      "outputs": [
        {
          "output_type": "stream",
          "name": "stdout",
          "text": [
            "is it a good one?!!! False\n"
          ]
        }
      ]
    }
  ]
}