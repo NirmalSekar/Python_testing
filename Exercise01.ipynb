{
  "nbformat": 4,
  "nbformat_minor": 0,
  "metadata": {
    "colab": {
      "name": "Exercise01.ipynb",
      "provenance": [],
      "collapsed_sections": [],
      "authorship_tag": "ABX9TyMq7BVdOswsZI6wvG6g12Bo",
      "include_colab_link": true
    },
    "kernelspec": {
      "name": "python3",
      "display_name": "Python 3"
    },
    "language_info": {
      "name": "python"
    },
    "gpuClass": "standard"
  },
  "cells": [
    {
      "cell_type": "markdown",
      "metadata": {
        "id": "view-in-github",
        "colab_type": "text"
      },
      "source": [
        "<a href=\"https://colab.research.google.com/github/NirmalSekar/Python_testing/blob/main/Exercise01.ipynb\" target=\"_parent\"><img src=\"https://colab.research.google.com/assets/colab-badge.svg\" alt=\"Open In Colab\"/></a>"
      ]
    },
    {
      "cell_type": "code",
      "execution_count": null,
      "metadata": {
        "colab": {
          "base_uri": "https://localhost:8080/"
        },
        "id": "heeoJWIYBU_-",
        "outputId": "aa4215f3-8c92-4459-d5da-23a23a15ec80"
      },
      "outputs": [
        {
          "output_type": "stream",
          "name": "stdout",
          "text": [
            "hello world!\n",
            "Nirmal kumar sekar\n",
            "this is my first book in python\n",
            "learn python the hard way\n",
            "At first this is fun as always\n",
            "Nice start at a very nice evening\n",
            "Next line is a comment\n"
          ]
        }
      ],
      "source": [
        "print(\"hello world!\")\n",
        "print(\"Nirmal kumar sekar\")\n",
        "print(\"this is my first book in python\")\n",
        "print(\"learn python the hard way\")\n",
        "print(\"At first this is fun as always\")\n",
        "print(\"Nice start at a very nice evening\")\n",
        "print(\"Next line is a comment\")\n",
        "#print(\"this line is comment\")"
      ]
    }
  ]
}