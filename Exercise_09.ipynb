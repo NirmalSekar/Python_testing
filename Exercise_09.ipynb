{
  "nbformat": 4,
  "nbformat_minor": 0,
  "metadata": {
    "colab": {
      "name": "Untitled0.ipynb",
      "provenance": [],
      "collapsed_sections": [],
      "authorship_tag": "ABX9TyO1A/g/qEzZ95mUgA+fuUE5",
      "include_colab_link": true
    },
    "kernelspec": {
      "name": "python3",
      "display_name": "Python 3"
    },
    "language_info": {
      "name": "python"
    }
  },
  "cells": [
    {
      "cell_type": "markdown",
      "metadata": {
        "id": "view-in-github",
        "colab_type": "text"
      },
      "source": [
        "<a href=\"https://colab.research.google.com/github/NirmalSekar/Python_testing/blob/main/Exercise_09.ipynb\" target=\"_parent\"><img src=\"https://colab.research.google.com/assets/colab-badge.svg\" alt=\"Open In Colab\"/></a>"
      ]
    },
    {
      "cell_type": "code",
      "execution_count": null,
      "metadata": {
        "id": "hi98ef7aosY7"
      },
      "outputs": [],
      "source": [
        "#new printing techniques in python"
      ]
    },
    {
      "cell_type": "code",
      "source": [
        "Days = \"Mon Tue Wed Thur Fri Sat Sun\"\n",
        "Months = \"\\nJan\\nFeb\\nMar\\nApr\\nMay\\nJun\\nJul\\nAug\"\n",
        "\n",
        "print(\"Here are the Days\", Days)"
      ],
      "metadata": {
        "colab": {
          "base_uri": "https://localhost:8080/"
        },
        "id": "lgerwj6MpDt8",
        "outputId": "9571ad15-a759-403b-e3d9-f4a8a3427081"
      },
      "execution_count": 19,
      "outputs": [
        {
          "output_type": "stream",
          "name": "stdout",
          "text": [
            "Here are the Days Mon Tue Wed Thur Fri Sat Sun\n"
          ]
        }
      ]
    },
    {
      "cell_type": "code",
      "source": [
        "#print(\"Here are the months: \", Months)"
      ],
      "metadata": {
        "colab": {
          "base_uri": "https://localhost:8080/"
        },
        "id": "qcoTCIe6pGmA",
        "outputId": "1535ae48-a61e-455f-b5cb-b588af19217c"
      },
      "execution_count": 8,
      "outputs": [
        {
          "output_type": "stream",
          "name": "stdout",
          "text": [
            "Here are the months:  Jan Feb Mar Apr May Jun Jul Aug Sep Oct Nov Dec\n"
          ]
        }
      ]
    },
    {
      "cell_type": "code",
      "source": [
        "newdays = \"Mon Tue Wed Thu Fri Sat Sun\"\n",
        "newmonths = \"\\nJan\\nFeb\\nMar\\nApr\\nMay\\nJun\\nJul\\nAug\"\n",
        "print(\"Here are the days: \", newdays)\n",
        "print(\"Here are the months: \", newmonths)\n",
        "print(\"here are the oldmonths: \",Months)"
      ],
      "metadata": {
        "colab": {
          "base_uri": "https://localhost:8080/"
        },
        "id": "bp_OlgFxqveT",
        "outputId": "98a0ff14-18cd-4408-91cb-393dd723b9bb"
      },
      "execution_count": 20,
      "outputs": [
        {
          "output_type": "stream",
          "name": "stdout",
          "text": [
            "Here are the days:  Mon Tue Wed Thu Fri Sat Sun\n",
            "Here are the months:  \n",
            "Jan\n",
            "Feb\n",
            "Mar\n",
            "Apr\n",
            "May\n",
            "Jun\n",
            "Jul\n",
            "Aug\n",
            "here are the oldmonths:  \n",
            "Jan\n",
            "Feb\n",
            "Mar\n",
            "Apr\n",
            "May\n",
            "Jun\n",
            "Jul\n",
            "Aug\n"
          ]
        }
      ]
    },
    {
      "cell_type": "code",
      "source": [],
      "metadata": {
        "id": "epE8XcwIrAbG"
      },
      "execution_count": null,
      "outputs": []
    }
  ]
}